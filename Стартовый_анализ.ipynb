{
  "cells": [
    {
      "cell_type": "markdown",
      "metadata": {
        "id": "view-in-github",
        "colab_type": "text"
      },
      "source": [
        "<a href=\"https://colab.research.google.com/github/NataliaKolesnik/IT_volunteer/blob/master/%D0%A1%D1%82%D0%B0%D1%80%D1%82%D0%BE%D0%B2%D1%8B%D0%B9_%D0%B0%D0%BD%D0%B0%D0%BB%D0%B8%D0%B7.ipynb\" target=\"_parent\"><img src=\"https://colab.research.google.com/assets/colab-badge.svg\" alt=\"Open In Colab\"/></a>"
      ]
    },
    {
      "cell_type": "code",
      "source": [
        "from google.colab import drive\n",
        "drive.mount('/content/drive/')"
      ],
      "metadata": {
        "id": "vjsjxbKDXV00",
        "colab": {
          "base_uri": "https://localhost:8080/"
        },
        "outputId": "9312a61f-f717-4b95-d926-13332c4a0574"
      },
      "id": "vjsjxbKDXV00",
      "execution_count": 1,
      "outputs": [
        {
          "output_type": "stream",
          "name": "stdout",
          "text": [
            "Mounted at /content/drive/\n"
          ]
        }
      ]
    },
    {
      "cell_type": "code",
      "execution_count": 2,
      "id": "0688b937",
      "metadata": {
        "id": "0688b937"
      },
      "outputs": [],
      "source": [
        "import pandas as pd\n",
        "import os\n",
        "import matplotlib.pyplot as plt\n",
        "import seaborn as sns\n",
        "%matplotlib inline"
      ]
    },
    {
      "cell_type": "code",
      "execution_count": 3,
      "id": "4355a07a",
      "metadata": {
        "id": "4355a07a"
      },
      "outputs": [],
      "source": [
        "pd.set_option('display.float_format', '{:.2f}'.format)\n",
        "\n",
        "FONT_TITLE = 20\n",
        "FONT_LABEL = 15\n",
        "\n",
        "path_data = '/content/drive/MyDrive/it_volonter/data/'"
      ]
    },
    {
      "cell_type": "code",
      "execution_count": 4,
      "id": "0b92c0dd",
      "metadata": {
        "id": "0b92c0dd"
      },
      "outputs": [],
      "source": [
        "# Загружаем данные\n",
        "df_m = pd.read_excel(path_data+'Выборка компаний Москва.xlsx', sheet_name='report', header=3)\n",
        "df_r = pd.read_excel(path_data+'Организации кроме Москвы.xlsx', sheet_name='report', header=3)"
      ]
    },
    {
      "cell_type": "code",
      "execution_count": 5,
      "id": "cd60bebf",
      "metadata": {
        "id": "cd60bebf"
      },
      "outputs": [],
      "source": [
        "# Объединим в один датасет\n",
        "df = pd.concat([df_m, df_r], axis=0, ignore_index=True)"
      ]
    },
    {
      "cell_type": "code",
      "source": [
        "# Удалим колонку №\n",
        "df = df.drop('№', axis=1)"
      ],
      "metadata": {
        "id": "kLqRiQ6Fe7Li"
      },
      "id": "kLqRiQ6Fe7Li",
      "execution_count": 6,
      "outputs": []
    },
    {
      "cell_type": "code",
      "execution_count": 7,
      "id": "6b92ee88",
      "metadata": {
        "id": "6b92ee88",
        "outputId": "051a5f92-ed02-4bbe-95d0-53b15fdaaf6f",
        "colab": {
          "base_uri": "https://localhost:8080/"
        }
      },
      "outputs": [
        {
          "output_type": "execute_result",
          "data": {
            "text/plain": [
              "Наименование                      0\n",
              "Регистрационный номер            10\n",
              "Дата регистрации                  0\n",
              "Статус                            0\n",
              "Код налогоплательщика             7\n",
              "Регион регистрации                0\n",
              "Код ОКАТО                         0\n",
              "Наименование ОКАТО                0\n",
              "Код ОКТМО                        22\n",
              "Организационно-правовая форма     0\n",
              "dtype: int64"
            ]
          },
          "metadata": {},
          "execution_count": 7
        }
      ],
      "source": [
        "# Пропуски в регистрацонных данных\n",
        "df.isna().sum()[:10]"
      ]
    },
    {
      "cell_type": "markdown",
      "id": "d8621d30",
      "metadata": {
        "id": "d8621d30"
      },
      "source": [
        "## Регистрационный номер"
      ]
    },
    {
      "cell_type": "code",
      "execution_count": 8,
      "id": "cca819bc",
      "metadata": {
        "id": "cca819bc",
        "outputId": "356bf2ce-c2d5-473e-afda-4657434c597f",
        "colab": {
          "base_uri": "https://localhost:8080/",
          "height": 977
        }
      },
      "outputs": [
        {
          "output_type": "execute_result",
          "data": {
            "text/plain": [
              "                                           Наименование  \\\n",
              "1894                                               МФБД   \n",
              "2734                                           РСУ, ППО   \n",
              "3689            АГРЫЗСКИЙ РЕМОНТНО-СТРОИТЕЛЬНЫЙ УЧАСТОК   \n",
              "3746           АЛЕКСЕЕВСКИЙ УЧАСТОК СТРОИТЕЛЬСТВА ЖИЛИЩ   \n",
              "5234                                        ВРЕМЯ, КООП   \n",
              "5349                                  ГИДРОДОРМОСТ, МУП   \n",
              "8774   ПСКОВЛЕСТОППРОМ, ФЛ ВЕЛИКОЛУКСКИЙ ГОРТОПСБЫТ ОАО   \n",
              "9503                         СЕВЕРСКАГРОПРОМХИМИЯ, АООТ   \n",
              "9908                                     СОРИКС, ТОО СП   \n",
              "10433                         УСПЕНСКОЕ, ГУП ДОМ ОТДЫХА   \n",
              "\n",
              "       Регистрационный номер     Дата регистрации       Статус  \\\n",
              "1894                     NaN  1991-10-22 00:00:00  Действующая   \n",
              "2734                     NaN  1996-01-29 00:00:00  Действующая   \n",
              "3689                     NaN  1993-12-03 00:00:00  Действующая   \n",
              "3746                     NaN  1993-12-24 00:00:00  Действующая   \n",
              "5234                     NaN  1989-03-15 00:00:00  Действующая   \n",
              "5349                     NaN  1992-06-02 00:00:00  Действующая   \n",
              "8774                     NaN  1993-09-02 00:00:00  Действующая   \n",
              "9503                     NaN  1993-03-04 00:00:00  Действующая   \n",
              "9908                     NaN  1992-09-29 00:00:00  Действующая   \n",
              "10433                    NaN  1993-12-14 00:00:00  Действующая   \n",
              "\n",
              "       Код налогоплательщика     Регион регистрации    Код ОКАТО  \\\n",
              "1894           7714041365.00                 Москва  45277586000   \n",
              "2734                     NaN                 Москва  45286580000   \n",
              "3689           1601001554.00   Республика Татарстан  92201501000   \n",
              "3746           1605000738.00   Республика Татарстан  92206551000   \n",
              "5234           5446100298.00  Новосибирская область  50412000000   \n",
              "5349           7303003998.00    Ульяновская область  73401365000   \n",
              "8774           6025001078.00      Псковская область  58410000000   \n",
              "9503           2348004449.00     Краснодарский край   3243813001   \n",
              "9908           5024012244.00     Московская область  46223501000   \n",
              "10433          5032021436.00     Московская область  46455000217   \n",
              "\n",
              "                                      Наименование ОКАТО      Код ОКТМО  \\\n",
              "1894                       Москва, Северный, Савеловский 45344000000.00   \n",
              "2734                      Москва, Центральный, Таганский 45381000000.00   \n",
              "3689        Республика Татарстан, Агрызский район, Агрыз 92601101001.00   \n",
              "3746   Республика Татарстан, Алексеевский район, Алек... 92606151051.00   \n",
              "5234                      Новосибирская область, Искитим 50712000001.00   \n",
              "5349     Ульяновская область, Ульяновск, Железнодорожный 73701000001.00   \n",
              "8774                     Псковская область, Великие Луки 58710000001.00   \n",
              "9503   Краснодарский край, Северский район, Северский...  3643413101.00   \n",
              "9908   Московская область, Красногорский район, Красн... 46623101001.00   \n",
              "10433  Московская область, Одинцово, п дома отдыха \"У... 46755000317.00   \n",
              "\n",
              "      Организационно-правовая форма  ...  \\\n",
              "1894             Общественные фонды  ...   \n",
              "2734             Общественные фонды  ...   \n",
              "3689        Благотворительные фонды  ...   \n",
              "3746        Благотворительные фонды  ...   \n",
              "5234        Благотворительные фонды  ...   \n",
              "5349        Благотворительные фонды  ...   \n",
              "8774        Благотворительные фонды  ...   \n",
              "9503        Благотворительные фонды  ...   \n",
              "9908        Благотворительные фонды  ...   \n",
              "10433       Благотворительные фонды  ...   \n",
              "\n",
              "       2017, Всего использовано средств, RUB  \\\n",
              "1894                                     NaN   \n",
              "2734                                     NaN   \n",
              "3689                                     NaN   \n",
              "3746                                     NaN   \n",
              "5234                                     NaN   \n",
              "5349                                     NaN   \n",
              "8774                                     NaN   \n",
              "9503                                     NaN   \n",
              "9908                                     NaN   \n",
              "10433                                    NaN   \n",
              "\n",
              "      2018, Всего использовано средств, RUB  \\\n",
              "1894                                    NaN   \n",
              "2734                                    NaN   \n",
              "3689                                    NaN   \n",
              "3746                                    NaN   \n",
              "5234                                    NaN   \n",
              "5349                                    NaN   \n",
              "8774                                    NaN   \n",
              "9503                                    NaN   \n",
              "9908                                    NaN   \n",
              "10433                                   NaN   \n",
              "\n",
              "      2019, Всего использовано средств, RUB  \\\n",
              "1894                                    NaN   \n",
              "2734                                    NaN   \n",
              "3689                                    NaN   \n",
              "3746                                    NaN   \n",
              "5234                                    NaN   \n",
              "5349                                    NaN   \n",
              "8774                                    NaN   \n",
              "9503                                    NaN   \n",
              "9908                                    NaN   \n",
              "10433                                   NaN   \n",
              "\n",
              "       2020, Всего использовано средств, RUB  \\\n",
              "1894                                     NaN   \n",
              "2734                                     NaN   \n",
              "3689                                     NaN   \n",
              "3746                                     NaN   \n",
              "5234                                     NaN   \n",
              "5349                                     NaN   \n",
              "8774                                     NaN   \n",
              "9503                                     NaN   \n",
              "9908                                     NaN   \n",
              "10433                                    NaN   \n",
              "\n",
              "       2021, Всего использовано средств, RUB  \\\n",
              "1894                                     NaN   \n",
              "2734                                     NaN   \n",
              "3689                                     NaN   \n",
              "3746                                     NaN   \n",
              "5234                                     NaN   \n",
              "5349                                     NaN   \n",
              "8774                                     NaN   \n",
              "9503                                     NaN   \n",
              "9908                                     NaN   \n",
              "10433                                    NaN   \n",
              "\n",
              "       2017, Остаток средств на конец отчетного года, RUB  \\\n",
              "1894                                                 NaN    \n",
              "2734                                                 NaN    \n",
              "3689                                                 NaN    \n",
              "3746                                                 NaN    \n",
              "5234                                                 NaN    \n",
              "5349                                                 NaN    \n",
              "8774                                                 NaN    \n",
              "9503                                                 NaN    \n",
              "9908                                                 NaN    \n",
              "10433                                                NaN    \n",
              "\n",
              "       2018, Остаток средств на конец отчетного года, RUB  \\\n",
              "1894                                                 NaN    \n",
              "2734                                                 NaN    \n",
              "3689                                                 NaN    \n",
              "3746                                                 NaN    \n",
              "5234                                                 NaN    \n",
              "5349                                                 NaN    \n",
              "8774                                                 NaN    \n",
              "9503                                                 NaN    \n",
              "9908                                                 NaN    \n",
              "10433                                                NaN    \n",
              "\n",
              "       2019, Остаток средств на конец отчетного года, RUB  \\\n",
              "1894                                                 NaN    \n",
              "2734                                                 NaN    \n",
              "3689                                                 NaN    \n",
              "3746                                                 NaN    \n",
              "5234                                                 NaN    \n",
              "5349                                                 NaN    \n",
              "8774                                                 NaN    \n",
              "9503                                                 NaN    \n",
              "9908                                                 NaN    \n",
              "10433                                                NaN    \n",
              "\n",
              "       2020, Остаток средств на конец отчетного года, RUB  \\\n",
              "1894                                                 NaN    \n",
              "2734                                                 NaN    \n",
              "3689                                                 NaN    \n",
              "3746                                                 NaN    \n",
              "5234                                                 NaN    \n",
              "5349                                                 NaN    \n",
              "8774                                                 NaN    \n",
              "9503                                                 NaN    \n",
              "9908                                                 NaN    \n",
              "10433                                                NaN    \n",
              "\n",
              "       2021, Остаток средств на конец отчетного года, RUB  \n",
              "1894                                                 NaN   \n",
              "2734                                                 NaN   \n",
              "3689                                                 NaN   \n",
              "3746                                                 NaN   \n",
              "5234                                                 NaN   \n",
              "5349                                                 NaN   \n",
              "8774                                                 NaN   \n",
              "9503                                                 NaN   \n",
              "9908                                                 NaN   \n",
              "10433                                                NaN   \n",
              "\n",
              "[10 rows x 161 columns]"
            ],
            "text/html": [
              "\n",
              "  <div id=\"df-bce6c2d3-26d1-4fe4-a293-34299971f8a0\">\n",
              "    <div class=\"colab-df-container\">\n",
              "      <div>\n",
              "<style scoped>\n",
              "    .dataframe tbody tr th:only-of-type {\n",
              "        vertical-align: middle;\n",
              "    }\n",
              "\n",
              "    .dataframe tbody tr th {\n",
              "        vertical-align: top;\n",
              "    }\n",
              "\n",
              "    .dataframe thead th {\n",
              "        text-align: right;\n",
              "    }\n",
              "</style>\n",
              "<table border=\"1\" class=\"dataframe\">\n",
              "  <thead>\n",
              "    <tr style=\"text-align: right;\">\n",
              "      <th></th>\n",
              "      <th>Наименование</th>\n",
              "      <th>Регистрационный номер</th>\n",
              "      <th>Дата регистрации</th>\n",
              "      <th>Статус</th>\n",
              "      <th>Код налогоплательщика</th>\n",
              "      <th>Регион регистрации</th>\n",
              "      <th>Код ОКАТО</th>\n",
              "      <th>Наименование ОКАТО</th>\n",
              "      <th>Код ОКТМО</th>\n",
              "      <th>Организационно-правовая форма</th>\n",
              "      <th>...</th>\n",
              "      <th>2017, Всего использовано средств, RUB</th>\n",
              "      <th>2018, Всего использовано средств, RUB</th>\n",
              "      <th>2019, Всего использовано средств, RUB</th>\n",
              "      <th>2020, Всего использовано средств, RUB</th>\n",
              "      <th>2021, Всего использовано средств, RUB</th>\n",
              "      <th>2017, Остаток средств на конец отчетного года, RUB</th>\n",
              "      <th>2018, Остаток средств на конец отчетного года, RUB</th>\n",
              "      <th>2019, Остаток средств на конец отчетного года, RUB</th>\n",
              "      <th>2020, Остаток средств на конец отчетного года, RUB</th>\n",
              "      <th>2021, Остаток средств на конец отчетного года, RUB</th>\n",
              "    </tr>\n",
              "  </thead>\n",
              "  <tbody>\n",
              "    <tr>\n",
              "      <th>1894</th>\n",
              "      <td>МФБД</td>\n",
              "      <td>NaN</td>\n",
              "      <td>1991-10-22 00:00:00</td>\n",
              "      <td>Действующая</td>\n",
              "      <td>7714041365.00</td>\n",
              "      <td>Москва</td>\n",
              "      <td>45277586000</td>\n",
              "      <td>Москва, Северный, Савеловский</td>\n",
              "      <td>45344000000.00</td>\n",
              "      <td>Общественные фонды</td>\n",
              "      <td>...</td>\n",
              "      <td>NaN</td>\n",
              "      <td>NaN</td>\n",
              "      <td>NaN</td>\n",
              "      <td>NaN</td>\n",
              "      <td>NaN</td>\n",
              "      <td>NaN</td>\n",
              "      <td>NaN</td>\n",
              "      <td>NaN</td>\n",
              "      <td>NaN</td>\n",
              "      <td>NaN</td>\n",
              "    </tr>\n",
              "    <tr>\n",
              "      <th>2734</th>\n",
              "      <td>РСУ, ППО</td>\n",
              "      <td>NaN</td>\n",
              "      <td>1996-01-29 00:00:00</td>\n",
              "      <td>Действующая</td>\n",
              "      <td>NaN</td>\n",
              "      <td>Москва</td>\n",
              "      <td>45286580000</td>\n",
              "      <td>Москва, Центральный, Таганский</td>\n",
              "      <td>45381000000.00</td>\n",
              "      <td>Общественные фонды</td>\n",
              "      <td>...</td>\n",
              "      <td>NaN</td>\n",
              "      <td>NaN</td>\n",
              "      <td>NaN</td>\n",
              "      <td>NaN</td>\n",
              "      <td>NaN</td>\n",
              "      <td>NaN</td>\n",
              "      <td>NaN</td>\n",
              "      <td>NaN</td>\n",
              "      <td>NaN</td>\n",
              "      <td>NaN</td>\n",
              "    </tr>\n",
              "    <tr>\n",
              "      <th>3689</th>\n",
              "      <td>АГРЫЗСКИЙ РЕМОНТНО-СТРОИТЕЛЬНЫЙ УЧАСТОК</td>\n",
              "      <td>NaN</td>\n",
              "      <td>1993-12-03 00:00:00</td>\n",
              "      <td>Действующая</td>\n",
              "      <td>1601001554.00</td>\n",
              "      <td>Республика Татарстан</td>\n",
              "      <td>92201501000</td>\n",
              "      <td>Республика Татарстан, Агрызский район, Агрыз</td>\n",
              "      <td>92601101001.00</td>\n",
              "      <td>Благотворительные фонды</td>\n",
              "      <td>...</td>\n",
              "      <td>NaN</td>\n",
              "      <td>NaN</td>\n",
              "      <td>NaN</td>\n",
              "      <td>NaN</td>\n",
              "      <td>NaN</td>\n",
              "      <td>NaN</td>\n",
              "      <td>NaN</td>\n",
              "      <td>NaN</td>\n",
              "      <td>NaN</td>\n",
              "      <td>NaN</td>\n",
              "    </tr>\n",
              "    <tr>\n",
              "      <th>3746</th>\n",
              "      <td>АЛЕКСЕЕВСКИЙ УЧАСТОК СТРОИТЕЛЬСТВА ЖИЛИЩ</td>\n",
              "      <td>NaN</td>\n",
              "      <td>1993-12-24 00:00:00</td>\n",
              "      <td>Действующая</td>\n",
              "      <td>1605000738.00</td>\n",
              "      <td>Республика Татарстан</td>\n",
              "      <td>92206551000</td>\n",
              "      <td>Республика Татарстан, Алексеевский район, Алек...</td>\n",
              "      <td>92606151051.00</td>\n",
              "      <td>Благотворительные фонды</td>\n",
              "      <td>...</td>\n",
              "      <td>NaN</td>\n",
              "      <td>NaN</td>\n",
              "      <td>NaN</td>\n",
              "      <td>NaN</td>\n",
              "      <td>NaN</td>\n",
              "      <td>NaN</td>\n",
              "      <td>NaN</td>\n",
              "      <td>NaN</td>\n",
              "      <td>NaN</td>\n",
              "      <td>NaN</td>\n",
              "    </tr>\n",
              "    <tr>\n",
              "      <th>5234</th>\n",
              "      <td>ВРЕМЯ, КООП</td>\n",
              "      <td>NaN</td>\n",
              "      <td>1989-03-15 00:00:00</td>\n",
              "      <td>Действующая</td>\n",
              "      <td>5446100298.00</td>\n",
              "      <td>Новосибирская область</td>\n",
              "      <td>50412000000</td>\n",
              "      <td>Новосибирская область, Искитим</td>\n",
              "      <td>50712000001.00</td>\n",
              "      <td>Благотворительные фонды</td>\n",
              "      <td>...</td>\n",
              "      <td>NaN</td>\n",
              "      <td>NaN</td>\n",
              "      <td>NaN</td>\n",
              "      <td>NaN</td>\n",
              "      <td>NaN</td>\n",
              "      <td>NaN</td>\n",
              "      <td>NaN</td>\n",
              "      <td>NaN</td>\n",
              "      <td>NaN</td>\n",
              "      <td>NaN</td>\n",
              "    </tr>\n",
              "    <tr>\n",
              "      <th>5349</th>\n",
              "      <td>ГИДРОДОРМОСТ, МУП</td>\n",
              "      <td>NaN</td>\n",
              "      <td>1992-06-02 00:00:00</td>\n",
              "      <td>Действующая</td>\n",
              "      <td>7303003998.00</td>\n",
              "      <td>Ульяновская область</td>\n",
              "      <td>73401365000</td>\n",
              "      <td>Ульяновская область, Ульяновск, Железнодорожный</td>\n",
              "      <td>73701000001.00</td>\n",
              "      <td>Благотворительные фонды</td>\n",
              "      <td>...</td>\n",
              "      <td>NaN</td>\n",
              "      <td>NaN</td>\n",
              "      <td>NaN</td>\n",
              "      <td>NaN</td>\n",
              "      <td>NaN</td>\n",
              "      <td>NaN</td>\n",
              "      <td>NaN</td>\n",
              "      <td>NaN</td>\n",
              "      <td>NaN</td>\n",
              "      <td>NaN</td>\n",
              "    </tr>\n",
              "    <tr>\n",
              "      <th>8774</th>\n",
              "      <td>ПСКОВЛЕСТОППРОМ, ФЛ ВЕЛИКОЛУКСКИЙ ГОРТОПСБЫТ ОАО</td>\n",
              "      <td>NaN</td>\n",
              "      <td>1993-09-02 00:00:00</td>\n",
              "      <td>Действующая</td>\n",
              "      <td>6025001078.00</td>\n",
              "      <td>Псковская область</td>\n",
              "      <td>58410000000</td>\n",
              "      <td>Псковская область, Великие Луки</td>\n",
              "      <td>58710000001.00</td>\n",
              "      <td>Благотворительные фонды</td>\n",
              "      <td>...</td>\n",
              "      <td>NaN</td>\n",
              "      <td>NaN</td>\n",
              "      <td>NaN</td>\n",
              "      <td>NaN</td>\n",
              "      <td>NaN</td>\n",
              "      <td>NaN</td>\n",
              "      <td>NaN</td>\n",
              "      <td>NaN</td>\n",
              "      <td>NaN</td>\n",
              "      <td>NaN</td>\n",
              "    </tr>\n",
              "    <tr>\n",
              "      <th>9503</th>\n",
              "      <td>СЕВЕРСКАГРОПРОМХИМИЯ, АООТ</td>\n",
              "      <td>NaN</td>\n",
              "      <td>1993-03-04 00:00:00</td>\n",
              "      <td>Действующая</td>\n",
              "      <td>2348004449.00</td>\n",
              "      <td>Краснодарский край</td>\n",
              "      <td>3243813001</td>\n",
              "      <td>Краснодарский край, Северский район, Северский...</td>\n",
              "      <td>3643413101.00</td>\n",
              "      <td>Благотворительные фонды</td>\n",
              "      <td>...</td>\n",
              "      <td>NaN</td>\n",
              "      <td>NaN</td>\n",
              "      <td>NaN</td>\n",
              "      <td>NaN</td>\n",
              "      <td>NaN</td>\n",
              "      <td>NaN</td>\n",
              "      <td>NaN</td>\n",
              "      <td>NaN</td>\n",
              "      <td>NaN</td>\n",
              "      <td>NaN</td>\n",
              "    </tr>\n",
              "    <tr>\n",
              "      <th>9908</th>\n",
              "      <td>СОРИКС, ТОО СП</td>\n",
              "      <td>NaN</td>\n",
              "      <td>1992-09-29 00:00:00</td>\n",
              "      <td>Действующая</td>\n",
              "      <td>5024012244.00</td>\n",
              "      <td>Московская область</td>\n",
              "      <td>46223501000</td>\n",
              "      <td>Московская область, Красногорский район, Красн...</td>\n",
              "      <td>46623101001.00</td>\n",
              "      <td>Благотворительные фонды</td>\n",
              "      <td>...</td>\n",
              "      <td>NaN</td>\n",
              "      <td>NaN</td>\n",
              "      <td>NaN</td>\n",
              "      <td>NaN</td>\n",
              "      <td>NaN</td>\n",
              "      <td>NaN</td>\n",
              "      <td>NaN</td>\n",
              "      <td>NaN</td>\n",
              "      <td>NaN</td>\n",
              "      <td>NaN</td>\n",
              "    </tr>\n",
              "    <tr>\n",
              "      <th>10433</th>\n",
              "      <td>УСПЕНСКОЕ, ГУП ДОМ ОТДЫХА</td>\n",
              "      <td>NaN</td>\n",
              "      <td>1993-12-14 00:00:00</td>\n",
              "      <td>Действующая</td>\n",
              "      <td>5032021436.00</td>\n",
              "      <td>Московская область</td>\n",
              "      <td>46455000217</td>\n",
              "      <td>Московская область, Одинцово, п дома отдыха \"У...</td>\n",
              "      <td>46755000317.00</td>\n",
              "      <td>Благотворительные фонды</td>\n",
              "      <td>...</td>\n",
              "      <td>NaN</td>\n",
              "      <td>NaN</td>\n",
              "      <td>NaN</td>\n",
              "      <td>NaN</td>\n",
              "      <td>NaN</td>\n",
              "      <td>NaN</td>\n",
              "      <td>NaN</td>\n",
              "      <td>NaN</td>\n",
              "      <td>NaN</td>\n",
              "      <td>NaN</td>\n",
              "    </tr>\n",
              "  </tbody>\n",
              "</table>\n",
              "<p>10 rows × 161 columns</p>\n",
              "</div>\n",
              "      <button class=\"colab-df-convert\" onclick=\"convertToInteractive('df-bce6c2d3-26d1-4fe4-a293-34299971f8a0')\"\n",
              "              title=\"Convert this dataframe to an interactive table.\"\n",
              "              style=\"display:none;\">\n",
              "        \n",
              "  <svg xmlns=\"http://www.w3.org/2000/svg\" height=\"24px\"viewBox=\"0 0 24 24\"\n",
              "       width=\"24px\">\n",
              "    <path d=\"M0 0h24v24H0V0z\" fill=\"none\"/>\n",
              "    <path d=\"M18.56 5.44l.94 2.06.94-2.06 2.06-.94-2.06-.94-.94-2.06-.94 2.06-2.06.94zm-11 1L8.5 8.5l.94-2.06 2.06-.94-2.06-.94L8.5 2.5l-.94 2.06-2.06.94zm10 10l.94 2.06.94-2.06 2.06-.94-2.06-.94-.94-2.06-.94 2.06-2.06.94z\"/><path d=\"M17.41 7.96l-1.37-1.37c-.4-.4-.92-.59-1.43-.59-.52 0-1.04.2-1.43.59L10.3 9.45l-7.72 7.72c-.78.78-.78 2.05 0 2.83L4 21.41c.39.39.9.59 1.41.59.51 0 1.02-.2 1.41-.59l7.78-7.78 2.81-2.81c.8-.78.8-2.07 0-2.86zM5.41 20L4 18.59l7.72-7.72 1.47 1.35L5.41 20z\"/>\n",
              "  </svg>\n",
              "      </button>\n",
              "      \n",
              "  <style>\n",
              "    .colab-df-container {\n",
              "      display:flex;\n",
              "      flex-wrap:wrap;\n",
              "      gap: 12px;\n",
              "    }\n",
              "\n",
              "    .colab-df-convert {\n",
              "      background-color: #E8F0FE;\n",
              "      border: none;\n",
              "      border-radius: 50%;\n",
              "      cursor: pointer;\n",
              "      display: none;\n",
              "      fill: #1967D2;\n",
              "      height: 32px;\n",
              "      padding: 0 0 0 0;\n",
              "      width: 32px;\n",
              "    }\n",
              "\n",
              "    .colab-df-convert:hover {\n",
              "      background-color: #E2EBFA;\n",
              "      box-shadow: 0px 1px 2px rgba(60, 64, 67, 0.3), 0px 1px 3px 1px rgba(60, 64, 67, 0.15);\n",
              "      fill: #174EA6;\n",
              "    }\n",
              "\n",
              "    [theme=dark] .colab-df-convert {\n",
              "      background-color: #3B4455;\n",
              "      fill: #D2E3FC;\n",
              "    }\n",
              "\n",
              "    [theme=dark] .colab-df-convert:hover {\n",
              "      background-color: #434B5C;\n",
              "      box-shadow: 0px 1px 3px 1px rgba(0, 0, 0, 0.15);\n",
              "      filter: drop-shadow(0px 1px 2px rgba(0, 0, 0, 0.3));\n",
              "      fill: #FFFFFF;\n",
              "    }\n",
              "  </style>\n",
              "\n",
              "      <script>\n",
              "        const buttonEl =\n",
              "          document.querySelector('#df-bce6c2d3-26d1-4fe4-a293-34299971f8a0 button.colab-df-convert');\n",
              "        buttonEl.style.display =\n",
              "          google.colab.kernel.accessAllowed ? 'block' : 'none';\n",
              "\n",
              "        async function convertToInteractive(key) {\n",
              "          const element = document.querySelector('#df-bce6c2d3-26d1-4fe4-a293-34299971f8a0');\n",
              "          const dataTable =\n",
              "            await google.colab.kernel.invokeFunction('convertToInteractive',\n",
              "                                                     [key], {});\n",
              "          if (!dataTable) return;\n",
              "\n",
              "          const docLinkHtml = 'Like what you see? Visit the ' +\n",
              "            '<a target=\"_blank\" href=https://colab.research.google.com/notebooks/data_table.ipynb>data table notebook</a>'\n",
              "            + ' to learn more about interactive tables.';\n",
              "          element.innerHTML = '';\n",
              "          dataTable['output_type'] = 'display_data';\n",
              "          await google.colab.output.renderOutput(dataTable, element);\n",
              "          const docLink = document.createElement('div');\n",
              "          docLink.innerHTML = docLinkHtml;\n",
              "          element.appendChild(docLink);\n",
              "        }\n",
              "      </script>\n",
              "    </div>\n",
              "  </div>\n",
              "  "
            ]
          },
          "metadata": {},
          "execution_count": 8
        }
      ],
      "source": [
        "df[df['Регистрационный номер'].isna()]"
      ]
    },
    {
      "cell_type": "code",
      "execution_count": 9,
      "id": "042770a8",
      "metadata": {
        "id": "042770a8",
        "outputId": "efc9c7b7-f142-4a40-e031-7bb8cf4055fc",
        "colab": {
          "base_uri": "https://localhost:8080/"
        }
      },
      "outputs": [
        {
          "output_type": "execute_result",
          "data": {
            "text/plain": [
              "10    151\n",
              "0       9\n",
              "1       1\n",
              "dtype: int64"
            ]
          },
          "metadata": {},
          "execution_count": 9
        }
      ],
      "source": [
        "# По ИНН  базе егрюл выдается 'По заданным критериям поиска данных не найдено'. \n",
        "# Данных по годам по ним нет. \n",
        "df[df['Регистрационный номер'].isna()].isna().sum().value_counts()"
      ]
    },
    {
      "cell_type": "code",
      "execution_count": 10,
      "id": "583c79d4",
      "metadata": {
        "id": "583c79d4"
      },
      "outputs": [],
      "source": [
        "# Удалим эти организации.\n",
        "df = df.drop(df[df['Регистрационный номер'].isna()].index, axis=0)\n",
        "\n",
        "# Регистрационный номер и Код налогоплательщика преобразуем в формат int\n",
        "df['Регистрационный номер'] = df['Регистрационный номер'].astype(int)\n",
        "df['Код налогоплательщика'] = df['Код налогоплательщика'].apply(lambda i: i if pd.isna(i) else int(i))"
      ]
    },
    {
      "cell_type": "markdown",
      "id": "d0da3213",
      "metadata": {
        "id": "d0da3213"
      },
      "source": [
        "## Дата создания организации"
      ]
    },
    {
      "cell_type": "code",
      "execution_count": 11,
      "id": "6c9ff74c",
      "metadata": {
        "id": "6c9ff74c",
        "outputId": "24177beb-40c3-4289-86f1-983f06907f6d",
        "colab": {
          "base_uri": "https://localhost:8080/",
          "height": 231
        }
      },
      "outputs": [
        {
          "output_type": "display_data",
          "data": {
            "text/plain": [
              "         Наименование Дата регистрации\n",
              "1185  ЖАР-ПТИЦА, ФОНД       30.12.1899"
            ],
            "text/html": [
              "\n",
              "  <div id=\"df-c64a30e1-849a-4a5b-bb73-b9395b85a10c\">\n",
              "    <div class=\"colab-df-container\">\n",
              "      <div>\n",
              "<style scoped>\n",
              "    .dataframe tbody tr th:only-of-type {\n",
              "        vertical-align: middle;\n",
              "    }\n",
              "\n",
              "    .dataframe tbody tr th {\n",
              "        vertical-align: top;\n",
              "    }\n",
              "\n",
              "    .dataframe thead th {\n",
              "        text-align: right;\n",
              "    }\n",
              "</style>\n",
              "<table border=\"1\" class=\"dataframe\">\n",
              "  <thead>\n",
              "    <tr style=\"text-align: right;\">\n",
              "      <th></th>\n",
              "      <th>Наименование</th>\n",
              "      <th>Дата регистрации</th>\n",
              "    </tr>\n",
              "  </thead>\n",
              "  <tbody>\n",
              "    <tr>\n",
              "      <th>1185</th>\n",
              "      <td>ЖАР-ПТИЦА, ФОНД</td>\n",
              "      <td>30.12.1899</td>\n",
              "    </tr>\n",
              "  </tbody>\n",
              "</table>\n",
              "</div>\n",
              "      <button class=\"colab-df-convert\" onclick=\"convertToInteractive('df-c64a30e1-849a-4a5b-bb73-b9395b85a10c')\"\n",
              "              title=\"Convert this dataframe to an interactive table.\"\n",
              "              style=\"display:none;\">\n",
              "        \n",
              "  <svg xmlns=\"http://www.w3.org/2000/svg\" height=\"24px\"viewBox=\"0 0 24 24\"\n",
              "       width=\"24px\">\n",
              "    <path d=\"M0 0h24v24H0V0z\" fill=\"none\"/>\n",
              "    <path d=\"M18.56 5.44l.94 2.06.94-2.06 2.06-.94-2.06-.94-.94-2.06-.94 2.06-2.06.94zm-11 1L8.5 8.5l.94-2.06 2.06-.94-2.06-.94L8.5 2.5l-.94 2.06-2.06.94zm10 10l.94 2.06.94-2.06 2.06-.94-2.06-.94-.94-2.06-.94 2.06-2.06.94z\"/><path d=\"M17.41 7.96l-1.37-1.37c-.4-.4-.92-.59-1.43-.59-.52 0-1.04.2-1.43.59L10.3 9.45l-7.72 7.72c-.78.78-.78 2.05 0 2.83L4 21.41c.39.39.9.59 1.41.59.51 0 1.02-.2 1.41-.59l7.78-7.78 2.81-2.81c.8-.78.8-2.07 0-2.86zM5.41 20L4 18.59l7.72-7.72 1.47 1.35L5.41 20z\"/>\n",
              "  </svg>\n",
              "      </button>\n",
              "      \n",
              "  <style>\n",
              "    .colab-df-container {\n",
              "      display:flex;\n",
              "      flex-wrap:wrap;\n",
              "      gap: 12px;\n",
              "    }\n",
              "\n",
              "    .colab-df-convert {\n",
              "      background-color: #E8F0FE;\n",
              "      border: none;\n",
              "      border-radius: 50%;\n",
              "      cursor: pointer;\n",
              "      display: none;\n",
              "      fill: #1967D2;\n",
              "      height: 32px;\n",
              "      padding: 0 0 0 0;\n",
              "      width: 32px;\n",
              "    }\n",
              "\n",
              "    .colab-df-convert:hover {\n",
              "      background-color: #E2EBFA;\n",
              "      box-shadow: 0px 1px 2px rgba(60, 64, 67, 0.3), 0px 1px 3px 1px rgba(60, 64, 67, 0.15);\n",
              "      fill: #174EA6;\n",
              "    }\n",
              "\n",
              "    [theme=dark] .colab-df-convert {\n",
              "      background-color: #3B4455;\n",
              "      fill: #D2E3FC;\n",
              "    }\n",
              "\n",
              "    [theme=dark] .colab-df-convert:hover {\n",
              "      background-color: #434B5C;\n",
              "      box-shadow: 0px 1px 3px 1px rgba(0, 0, 0, 0.15);\n",
              "      filter: drop-shadow(0px 1px 2px rgba(0, 0, 0, 0.3));\n",
              "      fill: #FFFFFF;\n",
              "    }\n",
              "  </style>\n",
              "\n",
              "      <script>\n",
              "        const buttonEl =\n",
              "          document.querySelector('#df-c64a30e1-849a-4a5b-bb73-b9395b85a10c button.colab-df-convert');\n",
              "        buttonEl.style.display =\n",
              "          google.colab.kernel.accessAllowed ? 'block' : 'none';\n",
              "\n",
              "        async function convertToInteractive(key) {\n",
              "          const element = document.querySelector('#df-c64a30e1-849a-4a5b-bb73-b9395b85a10c');\n",
              "          const dataTable =\n",
              "            await google.colab.kernel.invokeFunction('convertToInteractive',\n",
              "                                                     [key], {});\n",
              "          if (!dataTable) return;\n",
              "\n",
              "          const docLinkHtml = 'Like what you see? Visit the ' +\n",
              "            '<a target=\"_blank\" href=https://colab.research.google.com/notebooks/data_table.ipynb>data table notebook</a>'\n",
              "            + ' to learn more about interactive tables.';\n",
              "          element.innerHTML = '';\n",
              "          dataTable['output_type'] = 'display_data';\n",
              "          await google.colab.output.renderOutput(dataTable, element);\n",
              "          const docLink = document.createElement('div');\n",
              "          docLink.innerHTML = docLinkHtml;\n",
              "          element.appendChild(docLink);\n",
              "        }\n",
              "      </script>\n",
              "    </div>\n",
              "  </div>\n",
              "  "
            ]
          },
          "metadata": {}
        },
        {
          "output_type": "stream",
          "name": "stderr",
          "text": [
            "/usr/local/lib/python3.7/dist-packages/pandas/core/indexing.py:1732: SettingWithCopyWarning: \n",
            "A value is trying to be set on a copy of a slice from a DataFrame\n",
            "\n",
            "See the caveats in the documentation: https://pandas.pydata.org/pandas-docs/stable/user_guide/indexing.html#returning-a-view-versus-a-copy\n",
            "  self._setitem_single_block(indexer, value, name)\n"
          ]
        },
        {
          "output_type": "display_data",
          "data": {
            "text/plain": [
              "         Наименование     Дата регистрации\n",
              "1185  ЖАР-ПТИЦА, ФОНД  2001-03-01 00:00:00"
            ],
            "text/html": [
              "\n",
              "  <div id=\"df-452c254a-8761-4c6b-81c1-1c4de00298d1\">\n",
              "    <div class=\"colab-df-container\">\n",
              "      <div>\n",
              "<style scoped>\n",
              "    .dataframe tbody tr th:only-of-type {\n",
              "        vertical-align: middle;\n",
              "    }\n",
              "\n",
              "    .dataframe tbody tr th {\n",
              "        vertical-align: top;\n",
              "    }\n",
              "\n",
              "    .dataframe thead th {\n",
              "        text-align: right;\n",
              "    }\n",
              "</style>\n",
              "<table border=\"1\" class=\"dataframe\">\n",
              "  <thead>\n",
              "    <tr style=\"text-align: right;\">\n",
              "      <th></th>\n",
              "      <th>Наименование</th>\n",
              "      <th>Дата регистрации</th>\n",
              "    </tr>\n",
              "  </thead>\n",
              "  <tbody>\n",
              "    <tr>\n",
              "      <th>1185</th>\n",
              "      <td>ЖАР-ПТИЦА, ФОНД</td>\n",
              "      <td>2001-03-01 00:00:00</td>\n",
              "    </tr>\n",
              "  </tbody>\n",
              "</table>\n",
              "</div>\n",
              "      <button class=\"colab-df-convert\" onclick=\"convertToInteractive('df-452c254a-8761-4c6b-81c1-1c4de00298d1')\"\n",
              "              title=\"Convert this dataframe to an interactive table.\"\n",
              "              style=\"display:none;\">\n",
              "        \n",
              "  <svg xmlns=\"http://www.w3.org/2000/svg\" height=\"24px\"viewBox=\"0 0 24 24\"\n",
              "       width=\"24px\">\n",
              "    <path d=\"M0 0h24v24H0V0z\" fill=\"none\"/>\n",
              "    <path d=\"M18.56 5.44l.94 2.06.94-2.06 2.06-.94-2.06-.94-.94-2.06-.94 2.06-2.06.94zm-11 1L8.5 8.5l.94-2.06 2.06-.94-2.06-.94L8.5 2.5l-.94 2.06-2.06.94zm10 10l.94 2.06.94-2.06 2.06-.94-2.06-.94-.94-2.06-.94 2.06-2.06.94z\"/><path d=\"M17.41 7.96l-1.37-1.37c-.4-.4-.92-.59-1.43-.59-.52 0-1.04.2-1.43.59L10.3 9.45l-7.72 7.72c-.78.78-.78 2.05 0 2.83L4 21.41c.39.39.9.59 1.41.59.51 0 1.02-.2 1.41-.59l7.78-7.78 2.81-2.81c.8-.78.8-2.07 0-2.86zM5.41 20L4 18.59l7.72-7.72 1.47 1.35L5.41 20z\"/>\n",
              "  </svg>\n",
              "      </button>\n",
              "      \n",
              "  <style>\n",
              "    .colab-df-container {\n",
              "      display:flex;\n",
              "      flex-wrap:wrap;\n",
              "      gap: 12px;\n",
              "    }\n",
              "\n",
              "    .colab-df-convert {\n",
              "      background-color: #E8F0FE;\n",
              "      border: none;\n",
              "      border-radius: 50%;\n",
              "      cursor: pointer;\n",
              "      display: none;\n",
              "      fill: #1967D2;\n",
              "      height: 32px;\n",
              "      padding: 0 0 0 0;\n",
              "      width: 32px;\n",
              "    }\n",
              "\n",
              "    .colab-df-convert:hover {\n",
              "      background-color: #E2EBFA;\n",
              "      box-shadow: 0px 1px 2px rgba(60, 64, 67, 0.3), 0px 1px 3px 1px rgba(60, 64, 67, 0.15);\n",
              "      fill: #174EA6;\n",
              "    }\n",
              "\n",
              "    [theme=dark] .colab-df-convert {\n",
              "      background-color: #3B4455;\n",
              "      fill: #D2E3FC;\n",
              "    }\n",
              "\n",
              "    [theme=dark] .colab-df-convert:hover {\n",
              "      background-color: #434B5C;\n",
              "      box-shadow: 0px 1px 3px 1px rgba(0, 0, 0, 0.15);\n",
              "      filter: drop-shadow(0px 1px 2px rgba(0, 0, 0, 0.3));\n",
              "      fill: #FFFFFF;\n",
              "    }\n",
              "  </style>\n",
              "\n",
              "      <script>\n",
              "        const buttonEl =\n",
              "          document.querySelector('#df-452c254a-8761-4c6b-81c1-1c4de00298d1 button.colab-df-convert');\n",
              "        buttonEl.style.display =\n",
              "          google.colab.kernel.accessAllowed ? 'block' : 'none';\n",
              "\n",
              "        async function convertToInteractive(key) {\n",
              "          const element = document.querySelector('#df-452c254a-8761-4c6b-81c1-1c4de00298d1');\n",
              "          const dataTable =\n",
              "            await google.colab.kernel.invokeFunction('convertToInteractive',\n",
              "                                                     [key], {});\n",
              "          if (!dataTable) return;\n",
              "\n",
              "          const docLinkHtml = 'Like what you see? Visit the ' +\n",
              "            '<a target=\"_blank\" href=https://colab.research.google.com/notebooks/data_table.ipynb>data table notebook</a>'\n",
              "            + ' to learn more about interactive tables.';\n",
              "          element.innerHTML = '';\n",
              "          dataTable['output_type'] = 'display_data';\n",
              "          await google.colab.output.renderOutput(dataTable, element);\n",
              "          const docLink = document.createElement('div');\n",
              "          docLink.innerHTML = docLinkHtml;\n",
              "          element.appendChild(docLink);\n",
              "        }\n",
              "      </script>\n",
              "    </div>\n",
              "  </div>\n",
              "  "
            ]
          },
          "metadata": {}
        }
      ],
      "source": [
        "# У НО БФ \"ЖАРПТИЦА\" дата регистрации - 01.03.2001 с сайта ЕГРЮЛ, а не 1899-12-30  \n",
        "display(df[df['Регистрационный номер']==1037739450891][['Наименование', 'Дата регистрации']])\n",
        "\n",
        "# Заменим на верную дату\n",
        "df['Дата регистрации'].loc[1185] = pd.to_datetime('01.03.2001', format='%d.%m.%Y')\n",
        "\n",
        "# Проверим\n",
        "display(df[df['Регистрационный номер']==1037739450891][['Наименование', 'Дата регистрации']])"
      ]
    },
    {
      "cell_type": "code",
      "execution_count": 12,
      "id": "8887cdb9",
      "metadata": {
        "id": "8887cdb9"
      },
      "outputs": [],
      "source": [
        "# Сформируем новый признак - год регистрации\n",
        "df['Год_регистрации'] = df['Дата регистрации'].apply(lambda d: d.year)"
      ]
    },
    {
      "cell_type": "code",
      "execution_count": 13,
      "id": "787234d2",
      "metadata": {
        "id": "787234d2",
        "outputId": "c37131e3-7c9a-448e-c73a-774d72696510",
        "colab": {
          "base_uri": "https://localhost:8080/",
          "height": 375
        }
      },
      "outputs": [
        {
          "output_type": "display_data",
          "data": {
            "text/plain": [
              "<Figure size 1440x360 with 1 Axes>"
            ],
            "image/png": "[encoded data removed]"
          },
          "metadata": {
            "needs_background": "light"
          }
        }
      ],
      "source": [
        "plt.figure(figsize=(20,5))\n",
        "plt.title('Распределение организаций по году регистрации', fontsize=FONT_TITLE)\n",
        "sns.countplot(x=df['Год_регистрации'],  palette='Blues')\n",
        "plt.ylabel('Количество организаций', fontsize=FONT_LABEL)\n",
        "plt.xlabel('Год регистрации организации', fontsize=FONT_LABEL)\n",
        "plt.xticks(rotation=90)\n",
        "plt.show()"
      ]
    },
    {
      "cell_type": "markdown",
      "id": "02a0ec30",
      "metadata": {
        "id": "02a0ec30"
      },
      "source": [
        "По графику видно, что резкий рост количества регистраций благотворительных НКО был в 1996, 2000 и 2010-2012"
      ]
    },
    {
      "cell_type": "code",
      "source": [
        "df['Статус'].value_counts()"
      ],
      "metadata": {
        "colab": {
          "base_uri": "https://localhost:8080/"
        },
        "id": "e-khflVB6tgA",
        "outputId": "b1cc1586-56a4-495f-89cc-f6d577e88618"
      },
      "id": "e-khflVB6tgA",
      "execution_count": 14,
      "outputs": [
        {
          "output_type": "execute_result",
          "data": {
            "text/plain": [
              "Действующая       11154\n",
              "Реорганизуется        6\n",
              "Ликвидируется         2\n",
              "Name: Статус, dtype: int64"
            ]
          },
          "metadata": {},
          "execution_count": 14
        }
      ]
    },
    {
      "cell_type": "markdown",
      "id": "d6ae9868",
      "metadata": {
        "id": "d6ae9868"
      },
      "source": [
        "## Регион регистрации"
      ]
    },
    {
      "cell_type": "code",
      "execution_count": 15,
      "id": "376f0164",
      "metadata": {
        "id": "376f0164",
        "outputId": "4301e921-a76f-40bb-8e1a-85f70ff30514",
        "colab": {
          "base_uri": "https://localhost:8080/"
        }
      },
      "outputs": [
        {
          "output_type": "execute_result",
          "data": {
            "text/plain": [
              "Москва                         0.33\n",
              "Московская область             0.06\n",
              "Санкт-Петербург                0.06\n",
              "Республика Татарстан           0.03\n",
              "Башкортостан (Республика)      0.03\n",
              "                               ... \n",
              "Чеченская Республика           0.00\n",
              "Магаданская область            0.00\n",
              "Чукотский автономный округ     0.00\n",
              "Еврейская автономная область   0.00\n",
              "Байконур                       0.00\n",
              "Name: Регион регистрации, Length: 83, dtype: float64"
            ]
          },
          "metadata": {},
          "execution_count": 15
        }
      ],
      "source": [
        "df['Регион регистрации'].value_counts(normalize=True)"
      ]
    },
    {
      "cell_type": "code",
      "execution_count": 16,
      "id": "b00b9971",
      "metadata": {
        "id": "b00b9971",
        "outputId": "61205d88-b0a4-460e-c5f3-56efcbb5c939",
        "colab": {
          "base_uri": "https://localhost:8080/"
        }
      },
      "outputs": [
        {
          "output_type": "execute_result",
          "data": {
            "text/plain": [
              "Москва                          3645\n",
              "Московская область               702\n",
              "Санкт-Петербург                  664\n",
              "Республика Татарстан             317\n",
              "Башкортостан (Республика)        284\n",
              "                                ... \n",
              "Чеченская Республика              11\n",
              "Магаданская область                6\n",
              "Чукотский автономный округ         2\n",
              "Еврейская автономная область       2\n",
              "Байконур                           1\n",
              "Name: Регион регистрации, Length: 83, dtype: int64"
            ]
          },
          "metadata": {},
          "execution_count": 16
        }
      ],
      "source": [
        "df['Регион регистрации'].value_counts()"
      ]
    },
    {
      "cell_type": "markdown",
      "id": "df601e8a",
      "metadata": {
        "id": "df601e8a"
      },
      "source": [
        "В выборке представлено 83 региона. \n",
        "\n",
        "1/3 часть организаций зарегистрирована в Москве. По 6% от представленного количества в МО и Санкт-Петербурге. Далее по нисходящей. Есть и такие регионы, в которых зарегистрировано всего несколько НО. "
      ]
    },
    {
      "cell_type": "markdown",
      "source": [
        "## Анализ пропусков в данных"
      ],
      "metadata": {
        "id": "Njzbx-ckV8WY"
      },
      "id": "Njzbx-ckV8WY"
    },
    {
      "cell_type": "markdown",
      "source": [
        "Есть организации, которые не подали никаких сведений за весь период с 2017 по 2021 год. Сведения о деятельности фондов содержатся в столбцах с 11 по 160. Удалим строки с данными этих организация (по условию, что все ячейки в столбцах 11-160 пустые)"
      ],
      "metadata": {
        "id": "hmlPzLfGWECK"
      },
      "id": "hmlPzLfGWECK"
    },
    {
      "cell_type": "code",
      "source": [
        "#количество фондов в таблице на текущий момент\n",
        "df.shape"
      ],
      "metadata": {
        "id": "eDssd3lLV_Da",
        "outputId": "c3301d88-9fa6-4dd9-8b17-093acaae0c79",
        "colab": {
          "base_uri": "https://localhost:8080/"
        }
      },
      "id": "eDssd3lLV_Da",
      "execution_count": 17,
      "outputs": [
        {
          "output_type": "execute_result",
          "data": {
            "text/plain": [
              "(11162, 162)"
            ]
          },
          "metadata": {},
          "execution_count": 17
        }
      ]
    },
    {
      "cell_type": "code",
      "source": [
        "df.dropna(subset=list(df.columns[11:161]),how='all', inplace=True)"
      ],
      "metadata": {
        "id": "hGcAEiKkWIAb"
      },
      "id": "hGcAEiKkWIAb",
      "execution_count": 18,
      "outputs": []
    },
    {
      "cell_type": "code",
      "source": [
        "df.shape"
      ],
      "metadata": {
        "id": "KNcqJIwfWRPO",
        "outputId": "134228ac-0d6d-44e8-82d5-6d381551de50",
        "colab": {
          "base_uri": "https://localhost:8080/"
        }
      },
      "id": "KNcqJIwfWRPO",
      "execution_count": 19,
      "outputs": [
        {
          "output_type": "execute_result",
          "data": {
            "text/plain": [
              "(6838, 162)"
            ]
          },
          "metadata": {},
          "execution_count": 19
        }
      ]
    },
    {
      "cell_type": "markdown",
      "source": [
        "Из представленных в исходных данных более чем 11 тыс. фондов финансовую отчетность за 2017-2021 предоставляли лишь 6838 организаций. В дальнейшем будем анализировать только их.\n",
        "\n",
        "Также в таблице имеются пустые столбцы (доля пропусков -100%)"
      ],
      "metadata": {
        "id": "MwIPbATvWYVL"
      },
      "id": "MwIPbATvWYVL"
    },
    {
      "cell_type": "code",
      "source": [
        "#выводим список пустых столбцов\n",
        "df_null_percent=df.isnull().mean()*100\n",
        "df_null_percent[df_null_percent==100]"
      ],
      "metadata": {
        "id": "uO2DO2ZpWWzg",
        "outputId": "f9f05067-ca3a-4917-d27a-04ff563d8f49",
        "colab": {
          "base_uri": "https://localhost:8080/"
        }
      },
      "id": "uO2DO2ZpWWzg",
      "execution_count": 26,
      "outputs": [
        {
          "output_type": "execute_result",
          "data": {
            "text/plain": [
              "2019, Среднесписочная численность работников   100.00\n",
              "2020, Среднесписочная численность работников   100.00\n",
              "2021, Среднесписочная численность работников   100.00\n",
              "2017, Доходы, RUB                              100.00\n",
              "2018, Доходы, RUB                              100.00\n",
              "2019, Доходы, RUB                              100.00\n",
              "2020, Доходы, RUB                              100.00\n",
              "2021, Доходы, RUB                              100.00\n",
              "2017, Расходы, RUB                             100.00\n",
              "2018, Расходы, RUB                             100.00\n",
              "2019, Расходы, RUB                             100.00\n",
              "2020, Расходы, RUB                             100.00\n",
              "2021, Расходы, RUB                             100.00\n",
              "dtype: float64"
            ]
          },
          "metadata": {},
          "execution_count": 26
        }
      ]
    },
    {
      "cell_type": "markdown",
      "source": [
        "Некоммерческие организации создаются и действуют для достижения общественно полезных целей: социальных, благотворительных, культурных, образовательных, научных и управленческих. Получение доходов не является ее основной деятельнотью, а живет НКО за счет взносов, пожертвований и пр. Поэтому колонки Доходов и расходов пустые. Их можно исключить из датасета.\n",
        "\n",
        "По спреднесписочной численности - скорее всего просто нет данных (не выгрузились). Так как у организации есть минимум один человек - ее руководитель.\n",
        "\n",
        "Одной из поставленных задач является: 'Для тех организаций, которые подали отчетность, узнать, есть ли связь между материальным благополучием фонда и количеством штатных работников\". Необходимо узнать возможность получения этих данных."
      ],
      "metadata": {
        "id": "bHenGe-qYJhf"
      },
      "id": "bHenGe-qYJhf"
    },
    {
      "cell_type": "code",
      "source": [
        "col_drop = ['2017, Доходы, RUB',  '2018, Доходы, RUB',  '2019, Доходы, RUB',  '2020, Доходы, RUB',  '2021, Доходы, RUB',\n",
        "            '2017, Расходы, RUB', '2018, Расходы, RUB', '2019, Расходы, RUB', '2020, Расходы, RUB', '2021, Расходы, RUB']\n",
        "\n",
        "df = df.drop(col_drop, axis=1)"
      ],
      "metadata": {
        "id": "ncRaXRlwY1wc"
      },
      "id": "ncRaXRlwY1wc",
      "execution_count": 27,
      "outputs": []
    },
    {
      "cell_type": "markdown",
      "id": "da9c9f36",
      "metadata": {
        "id": "da9c9f36"
      },
      "source": [
        "## Данные по отчетности"
      ]
    },
    {
      "cell_type": "markdown",
      "id": "44aead3b",
      "metadata": {
        "id": "44aead3b"
      },
      "source": [
        "**Данные за 2017-2021 года, которые представленны в выборке:**\n",
        "- Среднесписочная численность работников,\n",
        "- Доходы, RUB, - удалили, так как пустые  \n",
        "- Расходы, RUB, - удалили, так как пустые   \n",
        "- Дебиторская задолженность, RUB,\n",
        "- Денежные средства и денежные эквиваленты, RUB,\n",
        "- Капитал и резервы, RUB,\n",
        "- Заёмные средства (краткосрочные), RUB,\n",
        "- Кредиторская задолженность, RUB,\n",
        "- Пассивы всего, RUB,\n",
        "- Выручка, RUB,\n",
        "- Себестоимость продаж, RUB,\n",
        "- Валовая прибыль (убыток), RUB,\n",
        "- Коммерческие расходы, RUB,\n",
        "- Управленческие расходы, RUB,\n",
        "- Прибыль (убыток) от продажи, RUB,\n",
        "- Доходы от участия в других организациях, RUB,\n",
        "- Проценты к получению, RUB,\n",
        "- Проценты к уплате, RUB,\n",
        "- Прочие доходы, RUB,\n",
        "- Прочие расходы, RUB,\n",
        "- Прибыль (убыток) до налогообложения , RUB,\n",
        "- Текущий налог на прибыль, RUB,\n",
        "- Чистая прибыль (убыток), RUB,\n",
        "- Прибыль от приносящей доход деятельности, RUB,\n",
        "- Всего поступило средств, RUB,\n",
        "- Расходы на целевые мероприятия, RUB,\n",
        "- Расходы на содержание аппарата управления, RUB,\n",
        "- Приобретение основных средств, инвентаря и иного имущества, RUB,\n",
        "- Всего использовано средств, RUB,\n",
        "- Остаток средств на конец отчетного года, RUB,"
      ]
    },
    {
      "cell_type": "code",
      "execution_count": 28,
      "id": "9998e99b",
      "metadata": {
        "id": "9998e99b"
      },
      "outputs": [],
      "source": [
        "otch_col = ['Среднесписочная численность работников', 'Дебиторская задолженность, RUB', 'Денежные средства и денежные эквиваленты, RUB',\n",
        "            'Капитал и резервы, RUB', 'Заёмные средства (краткосрочные), RUB', 'Кредиторская задолженность, RUB', 'Пассивы всего, RUB', 'Выручка, RUB', 'Себестоимость продаж, RUB',\n",
        "            'Валовая прибыль (убыток), RUB', 'Коммерческие расходы, RUB', 'Управленческие расходы, RUB', 'Прибыль (убыток) от продажи, RUB', 'Доходы от участия в других организациях, RUB',\n",
        "            'Проценты к получению, RUB', 'Проценты к уплате, RUB', 'Прочие доходы, RUB', 'Прочие расходы, RUB', 'Прибыль (убыток) до налогообложения , RUB',\n",
        "            'Текущий налог на прибыль, RUB', 'Чистая прибыль (убыток), RUB', 'Прибыль от приносящей доход деятельности, RUB', 'Всего поступило средств, RUB', 'Расходы на целевые мероприятия, RUB',\n",
        "            'Расходы на содержание аппарата управления, RUB', 'Приобретение основных средств, инвентаря и иного имущества, RUB', 'Всего использовано средств, RUB', 'Остаток средств на конец отчетного года, RUB']"
      ]
    },
    {
      "cell_type": "markdown",
      "source": [
        "Посмотрим какие организации не сдавали отчетнсоть в контролирующие органы, чтоб в дальнейшем их исключить из анализа.\n",
        "\n",
        "У нас есть оганизации, которые зарегистрированы в 2022 году. И соответсственно отчетности у них не будет.\n",
        "\n",
        "И так же много организаций зарегистрировано с 2018 по 2021 - значит отчетность должна быть только за период.\n"
      ],
      "metadata": {
        "id": "StcRFMWLeT3b"
      },
      "id": "StcRFMWLeT3b"
    },
    {
      "cell_type": "markdown",
      "source": [
        "### 2017 год"
      ],
      "metadata": {
        "id": "Ybl05MwWt00m"
      },
      "id": "Ybl05MwWt00m"
    },
    {
      "cell_type": "code",
      "source": [
        "col_2017 = ['2017, ' + el for el in otch_col]\n",
        "df_2017 = df[df['Год_регистрации'] <= 2017][['Регистрационный номер']+col_2017]\n",
        "print('Организации, обязанные сдать отчет в 2017 году:', df_2017.shape[0], '\\n')\n",
        "df_2017.info()"
      ],
      "metadata": {
        "colab": {
          "base_uri": "https://localhost:8080/"
        },
        "id": "JNjDOilCeTb-",
        "outputId": "f37b8760-d002-4e20-d970-89a3a6366b38"
      },
      "id": "JNjDOilCeTb-",
      "execution_count": 29,
      "outputs": [
        {
          "output_type": "stream",
          "name": "stdout",
          "text": [
            "Организации, обязанные сдать отчет в 2017 году: 5696 \n",
            "\n",
            "<class 'pandas.core.frame.DataFrame'>\n",
            "Int64Index: 5696 entries, 1 to 11166\n",
            "Data columns (total 29 columns):\n",
            " #   Column                                                                 Non-Null Count  Dtype  \n",
            "---  ------                                                                 --------------  -----  \n",
            " 0   Регистрационный номер                                                  5696 non-null   int64  \n",
            " 1   2017, Среднесписочная численность работников                           2613 non-null   object \n",
            " 2   2017, Дебиторская задолженность, RUB                                   2210 non-null   float64\n",
            " 3   2017, Денежные средства и денежные эквиваленты, RUB                    3565 non-null   float64\n",
            " 4   2017, Капитал и резервы, RUB                                           3428 non-null   float64\n",
            " 5   2017, Заёмные средства (краткосрочные), RUB                            382 non-null    float64\n",
            " 6   2017, Кредиторская задолженность, RUB                                  2168 non-null   float64\n",
            " 7   2017, Пассивы всего, RUB                                               4044 non-null   float64\n",
            " 8   2017, Выручка, RUB                                                     527 non-null    float64\n",
            " 9   2017, Себестоимость продаж, RUB                                        416 non-null    float64\n",
            " 10  2017, Валовая прибыль (убыток), RUB                                    401 non-null    float64\n",
            " 11  2017, Коммерческие расходы, RUB                                        50 non-null     float64\n",
            " 12  2017, Управленческие расходы, RUB                                      193 non-null    float64\n",
            " 13  2017, Прибыль (убыток) от продажи, RUB                                 586 non-null    float64\n",
            " 14  2017, Доходы от участия в других организациях, RUB                     6 non-null      float64\n",
            " 15  2017, Проценты к получению, RUB                                        168 non-null    float64\n",
            " 16  2017, Проценты к уплате, RUB                                           24 non-null     float64\n",
            " 17  2017, Прочие доходы, RUB                                               492 non-null    float64\n",
            " 18  2017, Прочие расходы, RUB                                              805 non-null    float64\n",
            " 19  2017, Прибыль (убыток) до налогообложения , RUB                        1030 non-null   float64\n",
            " 20  2017, Текущий налог на прибыль, RUB                                    407 non-null    float64\n",
            " 21  2017, Чистая прибыль (убыток), RUB                                     1012 non-null   float64\n",
            " 22  2017, Прибыль от приносящей доход деятельности, RUB                    389 non-null    float64\n",
            " 23  2017, Всего поступило средств, RUB                                     2996 non-null   float64\n",
            " 24  2017, Расходы на целевые мероприятия, RUB                              2539 non-null   float64\n",
            " 25  2017, Расходы на содержание аппарата управления, RUB                   2248 non-null   float64\n",
            " 26  2017, Приобретение основных средств, инвентаря и иного имущества, RUB  471 non-null    float64\n",
            " 27  2017, Всего использовано средств, RUB                                  3104 non-null   float64\n",
            " 28  2017, Остаток средств на конец отчетного года, RUB                     2761 non-null   float64\n",
            "dtypes: float64(27), int64(1), object(1)\n",
            "memory usage: 1.3+ MB\n"
          ]
        }
      ]
    },
    {
      "cell_type": "markdown",
      "source": [
        "### 2018 год"
      ],
      "metadata": {
        "id": "PXHoI3-2c8HX"
      },
      "id": "PXHoI3-2c8HX"
    },
    {
      "cell_type": "code",
      "source": [
        "col_2018 = ['2018, ' + el for el in otch_col]\n",
        "df_2018 = df[df['Год_регистрации'] <= 2018][col_2018]\n",
        "print('Организации, обязанные сдать отчет в 2018 году:', df_2018.shape[0], '\\n')\n",
        "df_2018.info()"
      ],
      "metadata": {
        "colab": {
          "base_uri": "https://localhost:8080/"
        },
        "id": "DmdFzhpau0Eh",
        "outputId": "eb526971-65da-491a-ecca-fb9b3995b175"
      },
      "id": "DmdFzhpau0Eh",
      "execution_count": 32,
      "outputs": [
        {
          "output_type": "stream",
          "name": "stdout",
          "text": [
            "Организации, обязанные сдать отчет в 2018 году: 6042 \n",
            "\n",
            "<class 'pandas.core.frame.DataFrame'>\n",
            "Int64Index: 6042 entries, 1 to 11170\n",
            "Data columns (total 28 columns):\n",
            " #   Column                                                                 Non-Null Count  Dtype  \n",
            "---  ------                                                                 --------------  -----  \n",
            " 0   2018, Среднесписочная численность работников                           54 non-null     object \n",
            " 1   2018, Дебиторская задолженность, RUB                                   2460 non-null   float64\n",
            " 2   2018, Денежные средства и денежные эквиваленты, RUB                    3874 non-null   float64\n",
            " 3   2018, Капитал и резервы, RUB                                           3789 non-null   float64\n",
            " 4   2018, Заёмные средства (краткосрочные), RUB                            397 non-null    float64\n",
            " 5   2018, Кредиторская задолженность, RUB                                  2356 non-null   float64\n",
            " 6   2018, Пассивы всего, RUB                                               4397 non-null   float64\n",
            " 7   2018, Выручка, RUB                                                     595 non-null    float64\n",
            " 8   2018, Себестоимость продаж, RUB                                        463 non-null    float64\n",
            " 9   2018, Валовая прибыль (убыток), RUB                                    468 non-null    float64\n",
            " 10  2018, Коммерческие расходы, RUB                                        56 non-null     float64\n",
            " 11  2018, Управленческие расходы, RUB                                      227 non-null    float64\n",
            " 12  2018, Прибыль (убыток) от продажи, RUB                                 682 non-null    float64\n",
            " 13  2018, Доходы от участия в других организациях, RUB                     11 non-null     float64\n",
            " 14  2018, Проценты к получению, RUB                                        198 non-null    float64\n",
            " 15  2018, Проценты к уплате, RUB                                           22 non-null     float64\n",
            " 16  2018, Прочие доходы, RUB                                               528 non-null    float64\n",
            " 17  2018, Прочие расходы, RUB                                              885 non-null    float64\n",
            " 18  2018, Прибыль (убыток) до налогообложения , RUB                        1148 non-null   float64\n",
            " 19  2018, Текущий налог на прибыль, RUB                                    481 non-null    float64\n",
            " 20  2018, Чистая прибыль (убыток), RUB                                     1138 non-null   float64\n",
            " 21  2018, Прибыль от приносящей доход деятельности, RUB                    456 non-null    float64\n",
            " 22  2018, Всего поступило средств, RUB                                     3397 non-null   float64\n",
            " 23  2018, Расходы на целевые мероприятия, RUB                              2879 non-null   float64\n",
            " 24  2018, Расходы на содержание аппарата управления, RUB                   2579 non-null   float64\n",
            " 25  2018, Приобретение основных средств, инвентаря и иного имущества, RUB  553 non-null    float64\n",
            " 26  2018, Всего использовано средств, RUB                                  3510 non-null   float64\n",
            " 27  2018, Остаток средств на конец отчетного года, RUB                     3187 non-null   float64\n",
            "dtypes: float64(27), object(1)\n",
            "memory usage: 1.3+ MB\n"
          ]
        }
      ]
    },
    {
      "cell_type": "markdown",
      "source": [
        "### 2019 год"
      ],
      "metadata": {
        "id": "_OsXca41dViI"
      },
      "id": "_OsXca41dViI"
    },
    {
      "cell_type": "code",
      "execution_count": 33,
      "id": "e1e6cc65",
      "metadata": {
        "id": "e1e6cc65",
        "colab": {
          "base_uri": "https://localhost:8080/"
        },
        "outputId": "471ca21f-d174-4478-8668-fb1281586806"
      },
      "outputs": [
        {
          "output_type": "stream",
          "name": "stdout",
          "text": [
            "Организации, обязанные сдать отчет в 2019 году: 6370 \n",
            "\n",
            "<class 'pandas.core.frame.DataFrame'>\n",
            "Int64Index: 6370 entries, 1 to 11170\n",
            "Data columns (total 28 columns):\n",
            " #   Column                                                                 Non-Null Count  Dtype  \n",
            "---  ------                                                                 --------------  -----  \n",
            " 0   2019, Среднесписочная численность работников                           0 non-null      float64\n",
            " 1   2019, Дебиторская задолженность, RUB                                   2651 non-null   float64\n",
            " 2   2019, Денежные средства и денежные эквиваленты, RUB                    4166 non-null   float64\n",
            " 3   2019, Капитал и резервы, RUB                                           3038 non-null   float64\n",
            " 4   2019, Заёмные средства (краткосрочные), RUB                            410 non-null    float64\n",
            " 5   2019, Кредиторская задолженность, RUB                                  2499 non-null   float64\n",
            " 6   2019, Пассивы всего, RUB                                               4749 non-null   float64\n",
            " 7   2019, Выручка, RUB                                                     657 non-null    float64\n",
            " 8   2019, Себестоимость продаж, RUB                                        544 non-null    float64\n",
            " 9   2019, Валовая прибыль (убыток), RUB                                    436 non-null    float64\n",
            " 10  2019, Коммерческие расходы, RUB                                        57 non-null     float64\n",
            " 11  2019, Управленческие расходы, RUB                                      245 non-null    float64\n",
            " 12  2019, Прибыль (убыток) от продажи, RUB                                 756 non-null    float64\n",
            " 13  2019, Доходы от участия в других организациях, RUB                     6 non-null      float64\n",
            " 14  2019, Проценты к получению, RUB                                        196 non-null    float64\n",
            " 15  2019, Проценты к уплате, RUB                                           27 non-null     float64\n",
            " 16  2019, Прочие доходы, RUB                                               585 non-null    float64\n",
            " 17  2019, Прочие расходы, RUB                                              975 non-null    float64\n",
            " 18  2019, Прибыль (убыток) до налогообложения , RUB                        1251 non-null   float64\n",
            " 19  2019, Текущий налог на прибыль, RUB                                    433 non-null    float64\n",
            " 20  2019, Чистая прибыль (убыток), RUB                                     1316 non-null   float64\n",
            " 21  2019, Прибыль от приносящей доход деятельности, RUB                    511 non-null    float64\n",
            " 22  2019, Всего поступило средств, RUB                                     3651 non-null   float64\n",
            " 23  2019, Расходы на целевые мероприятия, RUB                              3080 non-null   float64\n",
            " 24  2019, Расходы на содержание аппарата управления, RUB                   2814 non-null   float64\n",
            " 25  2019, Приобретение основных средств, инвентаря и иного имущества, RUB  582 non-null    float64\n",
            " 26  2019, Всего использовано средств, RUB                                  3790 non-null   float64\n",
            " 27  2019, Остаток средств на конец отчетного года, RUB                     3438 non-null   float64\n",
            "dtypes: float64(28)\n",
            "memory usage: 1.4 MB\n"
          ]
        }
      ],
      "source": [
        "col_2019 = ['2019, ' + el for el in otch_col]\n",
        "df_2019 = df[df['Год_регистрации'] <= 2019][col_2019]\n",
        "print('Организации, обязанные сдать отчет в 2019 году:', df_2019.shape[0], '\\n')\n",
        "df_2019.info()"
      ]
    },
    {
      "cell_type": "markdown",
      "source": [
        "### 2020 год"
      ],
      "metadata": {
        "id": "O-Jj199LdvJj"
      },
      "id": "O-Jj199LdvJj"
    },
    {
      "cell_type": "code",
      "execution_count": 34,
      "id": "1b88a3bc",
      "metadata": {
        "id": "1b88a3bc",
        "outputId": "fd509823-b160-46ec-f7a9-2e46eb945dfa",
        "colab": {
          "base_uri": "https://localhost:8080/"
        }
      },
      "outputs": [
        {
          "output_type": "stream",
          "name": "stdout",
          "text": [
            "Организации, обязанные сдать отчет в 2020 году: 6697 \n",
            "\n",
            "<class 'pandas.core.frame.DataFrame'>\n",
            "Int64Index: 6697 entries, 1 to 11171\n",
            "Data columns (total 28 columns):\n",
            " #   Column                                                                 Non-Null Count  Dtype  \n",
            "---  ------                                                                 --------------  -----  \n",
            " 0   2019, Среднесписочная численность работников                           0 non-null      float64\n",
            " 1   2019, Дебиторская задолженность, RUB                                   2651 non-null   float64\n",
            " 2   2019, Денежные средства и денежные эквиваленты, RUB                    4166 non-null   float64\n",
            " 3   2019, Капитал и резервы, RUB                                           3038 non-null   float64\n",
            " 4   2019, Заёмные средства (краткосрочные), RUB                            410 non-null    float64\n",
            " 5   2019, Кредиторская задолженность, RUB                                  2499 non-null   float64\n",
            " 6   2019, Пассивы всего, RUB                                               4749 non-null   float64\n",
            " 7   2019, Выручка, RUB                                                     657 non-null    float64\n",
            " 8   2019, Себестоимость продаж, RUB                                        544 non-null    float64\n",
            " 9   2019, Валовая прибыль (убыток), RUB                                    436 non-null    float64\n",
            " 10  2019, Коммерческие расходы, RUB                                        57 non-null     float64\n",
            " 11  2019, Управленческие расходы, RUB                                      245 non-null    float64\n",
            " 12  2019, Прибыль (убыток) от продажи, RUB                                 756 non-null    float64\n",
            " 13  2019, Доходы от участия в других организациях, RUB                     6 non-null      float64\n",
            " 14  2019, Проценты к получению, RUB                                        196 non-null    float64\n",
            " 15  2019, Проценты к уплате, RUB                                           27 non-null     float64\n",
            " 16  2019, Прочие доходы, RUB                                               585 non-null    float64\n",
            " 17  2019, Прочие расходы, RUB                                              975 non-null    float64\n",
            " 18  2019, Прибыль (убыток) до налогообложения , RUB                        1251 non-null   float64\n",
            " 19  2019, Текущий налог на прибыль, RUB                                    433 non-null    float64\n",
            " 20  2019, Чистая прибыль (убыток), RUB                                     1316 non-null   float64\n",
            " 21  2019, Прибыль от приносящей доход деятельности, RUB                    511 non-null    float64\n",
            " 22  2019, Всего поступило средств, RUB                                     3651 non-null   float64\n",
            " 23  2019, Расходы на целевые мероприятия, RUB                              3080 non-null   float64\n",
            " 24  2019, Расходы на содержание аппарата управления, RUB                   2814 non-null   float64\n",
            " 25  2019, Приобретение основных средств, инвентаря и иного имущества, RUB  582 non-null    float64\n",
            " 26  2019, Всего использовано средств, RUB                                  3790 non-null   float64\n",
            " 27  2019, Остаток средств на конец отчетного года, RUB                     3438 non-null   float64\n",
            "dtypes: float64(28)\n",
            "memory usage: 1.5 MB\n"
          ]
        }
      ],
      "source": [
        "col_2020 = ['2020, ' + el for el in otch_col]\n",
        "df_2020 = df[df['Год_регистрации'] <= 2020][col_2019]\n",
        "print('Организации, обязанные сдать отчет в 2020 году:', df_2020.shape[0], '\\n')\n",
        "df_2020.info()"
      ]
    },
    {
      "cell_type": "markdown",
      "source": [
        "### 2021 год"
      ],
      "metadata": {
        "id": "bZRGFNNJdwwq"
      },
      "id": "bZRGFNNJdwwq"
    },
    {
      "cell_type": "code",
      "execution_count": 35,
      "id": "c038b71b",
      "metadata": {
        "id": "c038b71b",
        "outputId": "69cb3ef0-9dca-443b-d700-ca7a01ece134",
        "colab": {
          "base_uri": "https://localhost:8080/"
        }
      },
      "outputs": [
        {
          "output_type": "stream",
          "name": "stdout",
          "text": [
            "Организации, обязанные сдать отчет в 2021 году: 6838 \n",
            "\n",
            "<class 'pandas.core.frame.DataFrame'>\n",
            "Int64Index: 6838 entries, 1 to 11171\n",
            "Data columns (total 28 columns):\n",
            " #   Column                                                                 Non-Null Count  Dtype  \n",
            "---  ------                                                                 --------------  -----  \n",
            " 0   2019, Среднесписочная численность работников                           0 non-null      float64\n",
            " 1   2019, Дебиторская задолженность, RUB                                   2651 non-null   float64\n",
            " 2   2019, Денежные средства и денежные эквиваленты, RUB                    4166 non-null   float64\n",
            " 3   2019, Капитал и резервы, RUB                                           3038 non-null   float64\n",
            " 4   2019, Заёмные средства (краткосрочные), RUB                            410 non-null    float64\n",
            " 5   2019, Кредиторская задолженность, RUB                                  2499 non-null   float64\n",
            " 6   2019, Пассивы всего, RUB                                               4749 non-null   float64\n",
            " 7   2019, Выручка, RUB                                                     657 non-null    float64\n",
            " 8   2019, Себестоимость продаж, RUB                                        544 non-null    float64\n",
            " 9   2019, Валовая прибыль (убыток), RUB                                    436 non-null    float64\n",
            " 10  2019, Коммерческие расходы, RUB                                        57 non-null     float64\n",
            " 11  2019, Управленческие расходы, RUB                                      245 non-null    float64\n",
            " 12  2019, Прибыль (убыток) от продажи, RUB                                 756 non-null    float64\n",
            " 13  2019, Доходы от участия в других организациях, RUB                     6 non-null      float64\n",
            " 14  2019, Проценты к получению, RUB                                        196 non-null    float64\n",
            " 15  2019, Проценты к уплате, RUB                                           27 non-null     float64\n",
            " 16  2019, Прочие доходы, RUB                                               585 non-null    float64\n",
            " 17  2019, Прочие расходы, RUB                                              975 non-null    float64\n",
            " 18  2019, Прибыль (убыток) до налогообложения , RUB                        1251 non-null   float64\n",
            " 19  2019, Текущий налог на прибыль, RUB                                    433 non-null    float64\n",
            " 20  2019, Чистая прибыль (убыток), RUB                                     1316 non-null   float64\n",
            " 21  2019, Прибыль от приносящей доход деятельности, RUB                    511 non-null    float64\n",
            " 22  2019, Всего поступило средств, RUB                                     3651 non-null   float64\n",
            " 23  2019, Расходы на целевые мероприятия, RUB                              3080 non-null   float64\n",
            " 24  2019, Расходы на содержание аппарата управления, RUB                   2814 non-null   float64\n",
            " 25  2019, Приобретение основных средств, инвентаря и иного имущества, RUB  582 non-null    float64\n",
            " 26  2019, Всего использовано средств, RUB                                  3790 non-null   float64\n",
            " 27  2019, Остаток средств на конец отчетного года, RUB                     3438 non-null   float64\n",
            "dtypes: float64(28)\n",
            "memory usage: 1.5 MB\n"
          ]
        }
      ],
      "source": [
        "col_2021 = ['2021, ' + el for el in otch_col]\n",
        "df_2021 = df[df['Год_регистрации'] <= 2021][col_2019]\n",
        "print('Организации, обязанные сдать отчет в 2021 году:', df_2021.shape[0], '\\n')\n",
        "df_2021.info()"
      ]
    },
    {
      "cell_type": "code",
      "execution_count": null,
      "id": "b67389c3",
      "metadata": {
        "id": "b67389c3"
      },
      "outputs": [],
      "source": [
        ""
      ]
    },
    {
      "cell_type": "code",
      "execution_count": null,
      "id": "1b5fce30",
      "metadata": {
        "id": "1b5fce30"
      },
      "outputs": [],
      "source": [
        "df_m.iloc[1185]"
      ]
    },
    {
      "cell_type": "code",
      "execution_count": null,
      "id": "d2d6e05a",
      "metadata": {
        "id": "d2d6e05a"
      },
      "outputs": [],
      "source": [
        "3647"
      ]
    },
    {
      "cell_type": "code",
      "execution_count": null,
      "id": "1dec70e3",
      "metadata": {
        "id": "1dec70e3"
      },
      "outputs": [],
      "source": [
        "df_m['Год_регистрации'] = "
      ]
    }
  ],
  "metadata": {
    "kernelspec": {
      "display_name": "Python 3 (ipykernel)",
      "language": "python",
      "name": "python3"
    },
    "language_info": {
      "codemirror_mode": {
        "name": "ipython",
        "version": 3
      },
      "file_extension": ".py",
      "mimetype": "text/x-python",
      "name": "python",
      "nbconvert_exporter": "python",
      "pygments_lexer": "ipython3",
      "version": "3.9.12"
    },
    "colab": {
      "name": "Стартовый анализ.ipynb",
      "provenance": [],
      "include_colab_link": true
    }
  },
  "nbformat": 4,
  "nbformat_minor": 5
}